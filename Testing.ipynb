{
 "cells": [
  {
   "cell_type": "code",
   "execution_count": 1,
   "id": "c07e67bb-e7e6-411a-905a-611bfb253262",
   "metadata": {},
   "outputs": [
    {
     "name": "stdout",
     "output_type": "stream",
     "text": [
      "HELLO WORLD\n"
     ]
    }
   ],
   "source": [
    "print(\"HELLO WORLD\")"
   ]
  },
  {
   "cell_type": "code",
   "execution_count": 2,
   "id": "987fc884-db1c-464a-bc62-7ab176b9cef5",
   "metadata": {},
   "outputs": [
    {
     "name": "stdout",
     "output_type": "stream",
     "text": [
      "['False', 'None', 'True', 'and', 'as', 'assert', 'async', 'await', 'break', 'class', 'continue', 'def', 'del', 'elif', 'else', 'except', 'finally', 'for', 'from', 'global', 'if', 'import', 'in', 'is', 'lambda', 'nonlocal', 'not', 'or', 'pass', 'raise', 'return', 'try', 'while', 'with', 'yield']\n"
     ]
    }
   ],
   "source": [
    "import keyword\n",
    "print(keyword.kwlist)"
   ]
  },
  {
   "cell_type": "code",
   "execution_count": 3,
   "id": "cc38b96d-423b-40bb-8e7e-5f379d02b96d",
   "metadata": {},
   "outputs": [
    {
     "data": {
      "text/plain": [
       "int"
      ]
     },
     "execution_count": 3,
     "metadata": {},
     "output_type": "execute_result"
    }
   ],
   "source": [
    "x=20\n",
    "type(x)"
   ]
  },
  {
   "cell_type": "code",
   "execution_count": 6,
   "id": "f41fcf77-c0aa-4db3-a5db-666204aa45f0",
   "metadata": {},
   "outputs": [
    {
     "name": "stdout",
     "output_type": "stream",
     "text": [
      "['a', 5]\n",
      "a\n"
     ]
    }
   ],
   "source": [
    "list1 = ['a',5]\n",
    "print(list1)\n",
    "print(list1[0])"
   ]
  },
  {
   "cell_type": "code",
   "execution_count": 5,
   "id": "c6f08959-3c40-4b6b-86f0-1351a86ed9b0",
   "metadata": {},
   "outputs": [
    {
     "name": "stdout",
     "output_type": "stream",
     "text": [
      "(1, '5')\n"
     ]
    }
   ],
   "source": [
    "tuple1 = (1,'5')\n",
    "print(tuple1)"
   ]
  },
  {
   "cell_type": "code",
   "execution_count": 8,
   "id": "b60d2858-ee9e-489a-a5f3-841df34165e6",
   "metadata": {},
   "outputs": [
    {
     "data": {
      "text/plain": [
       "['s', 'u', 'b', 'h', 'a', 'm']"
      ]
     },
     "execution_count": 8,
     "metadata": {},
     "output_type": "execute_result"
    }
   ],
   "source": [
    "list('subham')\n"
   ]
  },
  {
   "cell_type": "code",
   "execution_count": 9,
   "id": "891545da-b42c-4b37-a25a-11464aff1178",
   "metadata": {},
   "outputs": [
    {
     "name": "stdout",
     "output_type": "stream",
     "text": [
      "2\n"
     ]
    }
   ],
   "source": [
    "l1=[10,20]\n",
    "print(len(l1))"
   ]
  },
  {
   "cell_type": "code",
   "execution_count": 10,
   "id": "09643fb5-d7f8-4652-ad7a-f47ba4b98397",
   "metadata": {},
   "outputs": [
    {
     "name": "stdout",
     "output_type": "stream",
     "text": [
      "5\n"
     ]
    }
   ],
   "source": [
    "print(2+3)"
   ]
  },
  {
   "cell_type": "code",
   "execution_count": 12,
   "id": "119eec66-9100-4d2a-824a-75a570257b1e",
   "metadata": {},
   "outputs": [
    {
     "name": "stdout",
     "output_type": "stream",
     "text": [
      "['ram', 'shyam', 'Radha']\n"
     ]
    }
   ],
   "source": [
    "name = ['ram','shyam']\n",
    "name.append('Radha')\n",
    "print(name)"
   ]
  },
  {
   "cell_type": "code",
   "execution_count": 13,
   "id": "ee681c19-6300-4e17-88ae-562c44133b43",
   "metadata": {},
   "outputs": [
    {
     "ename": "TypeError",
     "evalue": "list.append() takes exactly one argument (2 given)",
     "output_type": "error",
     "traceback": [
      "\u001b[1;31m---------------------------------------------------------------------------\u001b[0m",
      "\u001b[1;31mTypeError\u001b[0m                                 Traceback (most recent call last)",
      "Cell \u001b[1;32mIn[13], line 2\u001b[0m\n\u001b[0;32m      1\u001b[0m name \u001b[38;5;241m=\u001b[39m [\u001b[38;5;124m'\u001b[39m\u001b[38;5;124mram\u001b[39m\u001b[38;5;124m'\u001b[39m,\u001b[38;5;124m'\u001b[39m\u001b[38;5;124mshyam\u001b[39m\u001b[38;5;124m'\u001b[39m]\n\u001b[1;32m----> 2\u001b[0m name\u001b[38;5;241m.\u001b[39mappend(\u001b[38;5;124m'\u001b[39m\u001b[38;5;124mRadha\u001b[39m\u001b[38;5;124m'\u001b[39m,\u001b[38;5;124m'\u001b[39m\u001b[38;5;124mreli\u001b[39m\u001b[38;5;124m'\u001b[39m)\n\u001b[0;32m      3\u001b[0m \u001b[38;5;28mprint\u001b[39m(name)\n",
      "\u001b[1;31mTypeError\u001b[0m: list.append() takes exactly one argument (2 given)"
     ]
    }
   ],
   "source": [
    "name = ['ram','shyam']\n",
    "name.append('Radha','reli')\n",
    "print(name)"
   ]
  },
  {
   "cell_type": "code",
   "execution_count": 14,
   "id": "548104ef-c071-4071-b69b-f1c38e0a2c3d",
   "metadata": {},
   "outputs": [
    {
     "name": "stdout",
     "output_type": "stream",
     "text": [
      "['ram', 'shyam', ['Radha', 'sii']]\n"
     ]
    }
   ],
   "source": [
    "#Hence we use extend method\n",
    "name = ['ram','shyam']\n",
    "name.append(['Radha','sii'])\n",
    "print(name)"
   ]
  },
  {
   "cell_type": "code",
   "execution_count": 15,
   "id": "5e440e69-a092-444c-a8be-1ad85d868a38",
   "metadata": {},
   "outputs": [
    {
     "name": "stdout",
     "output_type": "stream",
     "text": [
      "['ram', 'shyam', 'Radha', 'shii']\n"
     ]
    }
   ],
   "source": [
    "#above is nt looking good. hence we use extend method\n",
    "name = ['ram','shyam']\n",
    "name.extend(['Radha','shii'])\n",
    "print(name)"
   ]
  },
  {
   "cell_type": "code",
   "execution_count": 97,
   "id": "e5cddd26-60c7-447e-9db6-f35cccccfe87",
   "metadata": {},
   "outputs": [
    {
     "name": "stdout",
     "output_type": "stream",
     "text": [
      "1\n"
     ]
    }
   ],
   "source": [
    "name = ['ram','shyam']\n",
    "i = name.index('shyam')\n",
    "print(i)"
   ]
  },
  {
   "cell_type": "code",
   "execution_count": 17,
   "id": "113e6801-90fc-42a5-92cc-0299aee00d08",
   "metadata": {},
   "outputs": [
    {
     "name": "stdout",
     "output_type": "stream",
     "text": [
      "7\n"
     ]
    }
   ],
   "source": [
    "lst1 = [0,1,2,7]\n",
    "pop_lol = lst1.pop()\n",
    "print(pop_lol)"
   ]
  },
  {
   "cell_type": "code",
   "execution_count": 18,
   "id": "4929efb7-b46d-4492-9492-04e8919dca48",
   "metadata": {},
   "outputs": [
    {
     "name": "stdout",
     "output_type": "stream",
     "text": [
      "2\n"
     ]
    }
   ],
   "source": [
    "lst1 = [0,1,2,7]\n",
    "pop_lol = lst1.pop(2)\n",
    "print(pop_lol)"
   ]
  },
  {
   "cell_type": "code",
   "execution_count": 19,
   "id": "7bbdc2c2-309d-456d-a839-21422ea8b817",
   "metadata": {},
   "outputs": [
    {
     "name": "stdout",
     "output_type": "stream",
     "text": [
      "2\n"
     ]
    }
   ],
   "source": [
    "my_list = [1, 2, 3, 4, 5]\n",
    "index = my_list.index(3)\n",
    "print(index)  # Output: 2\n"
   ]
  },
  {
   "cell_type": "code",
   "execution_count": 22,
   "id": "1fb2bf3c-75b2-4abb-99e0-5e749457994f",
   "metadata": {},
   "outputs": [],
   "source": [
    "my_list = [1, 2, 3, 4, 5]\n",
    "my_list.reverse()"
   ]
  },
  {
   "cell_type": "code",
   "execution_count": 23,
   "id": "9f5538d9-1828-46c2-ab77-dc16563802b6",
   "metadata": {},
   "outputs": [
    {
     "name": "stdout",
     "output_type": "stream",
     "text": [
      "[3, 'c', 2, 'b', 1, 'a']\n"
     ]
    }
   ],
   "source": [
    "my_list = ['a', 1, 'b', 2, 'c', 3]\n",
    "my_list.reverse()\n",
    "print(my_list)  # Output: [3, 'c', 2, 'b', 1, 'a']\n"
   ]
  },
  {
   "cell_type": "code",
   "execution_count": 24,
   "id": "a43ea9fc-0aa9-48b1-ba4d-9ef236b0ec71",
   "metadata": {},
   "outputs": [
    {
     "name": "stdout",
     "output_type": "stream",
     "text": [
      "[1, 2, 3]\n"
     ]
    }
   ],
   "source": [
    "my_list = [1,2,3]\n",
    "my_list.sort()\n",
    "print(my_list)  # Output: [3, 'c', 2, 'b', 1, 'a']\n"
   ]
  },
  {
   "cell_type": "code",
   "execution_count": 25,
   "id": "1db008cb-b578-454a-8c52-d24931d5602b",
   "metadata": {},
   "outputs": [
    {
     "name": "stdout",
     "output_type": "stream",
     "text": [
      "[3, 2, 1]\n"
     ]
    }
   ],
   "source": [
    "my_list = [1,2,3]\n",
    "my_list.sort(reverse=True)\n",
    "print(my_list)  "
   ]
  },
  {
   "cell_type": "code",
   "execution_count": 26,
   "id": "dd21d157-2d99-4e1c-9bf2-df2bd212e0b0",
   "metadata": {},
   "outputs": [
    {
     "name": "stdout",
     "output_type": "stream",
     "text": [
      "['a', 1, 2, 'c', 3, 'b']\n"
     ]
    }
   ],
   "source": [
    "my_list = ['a', 1, 'b', 2, 'c', 3 ,'b']\n",
    "my_list.remove('b')\n",
    "print(my_list)"
   ]
  },
  {
   "cell_type": "code",
   "execution_count": 27,
   "id": "70e77d17-9e89-4f9a-959b-e979f2cef311",
   "metadata": {},
   "outputs": [
    {
     "data": {
      "text/plain": [
       "tuple"
      ]
     },
     "execution_count": 27,
     "metadata": {},
     "output_type": "execute_result"
    }
   ],
   "source": [
    "#tuples are immutable\n",
    "#we can store all data types\n",
    "work_loc = ('blore','mumbai','delhi')\n",
    "type(work_loc)"
   ]
  },
  {
   "cell_type": "code",
   "execution_count": 29,
   "id": "7d7219b9-08f6-4d30-99c1-07fc80b922e0",
   "metadata": {},
   "outputs": [
    {
     "name": "stdout",
     "output_type": "stream",
     "text": [
      "('blore', 'mumbai', 'delhi', 'boo')\n"
     ]
    }
   ],
   "source": [
    "#trick to add elements to a tuple\n",
    "work_loc = ('blore','mumbai','delhi')\n",
    "work_loc = list(work_loc)\n",
    "work_loc.append('boo')\n",
    "work_loc = tuple(work_loc)\n",
    "print(work_loc)"
   ]
  },
  {
   "cell_type": "code",
   "execution_count": 30,
   "id": "7a72ccd0-27ed-4095-a300-78b757dbbe64",
   "metadata": {},
   "outputs": [
    {
     "data": {
      "text/plain": [
       "4"
      ]
     },
     "execution_count": 30,
     "metadata": {},
     "output_type": "execute_result"
    }
   ],
   "source": [
    "len(work_loc)"
   ]
  },
  {
   "cell_type": "code",
   "execution_count": 31,
   "id": "dfa82c4e-b135-4653-87fb-27f36b43ed4d",
   "metadata": {},
   "outputs": [],
   "source": [
    "numbers = (1,2,3,4,1,2)\n"
   ]
  },
  {
   "cell_type": "code",
   "execution_count": 32,
   "id": "608ae27c-e443-4f73-a261-7af67388bad5",
   "metadata": {},
   "outputs": [
    {
     "data": {
      "text/plain": [
       "0"
      ]
     },
     "execution_count": 32,
     "metadata": {},
     "output_type": "execute_result"
    }
   ],
   "source": [
    "numbers.index(1)"
   ]
  },
  {
   "cell_type": "code",
   "execution_count": 33,
   "id": "32532c56-37f1-4492-8595-628f5ca094aa",
   "metadata": {},
   "outputs": [
    {
     "data": {
      "text/plain": [
       "1"
      ]
     },
     "execution_count": 33,
     "metadata": {},
     "output_type": "execute_result"
    }
   ],
   "source": [
    "numbers.index(2)"
   ]
  },
  {
   "cell_type": "code",
   "execution_count": 34,
   "id": "8f2c0caa-f968-4956-826f-5d452ce690b7",
   "metadata": {},
   "outputs": [
    {
     "data": {
      "text/plain": [
       "2"
      ]
     },
     "execution_count": 34,
     "metadata": {},
     "output_type": "execute_result"
    }
   ],
   "source": [
    "numbers.count(2)"
   ]
  },
  {
   "cell_type": "code",
   "execution_count": 35,
   "id": "0c1ef41f-fe8f-491f-9310-9e5fea39d0bb",
   "metadata": {},
   "outputs": [
    {
     "data": {
      "text/plain": [
       "set"
      ]
     },
     "execution_count": 35,
     "metadata": {},
     "output_type": "execute_result"
    }
   ],
   "source": [
    "#sets keep elemts in sorted rder and deletes the duplicate items\n",
    "roll_num = set()\n",
    "type(roll_num)"
   ]
  },
  {
   "cell_type": "code",
   "execution_count": 36,
   "id": "b4685e62-e2f6-42c5-a8d5-a1ffc71de40c",
   "metadata": {},
   "outputs": [
    {
     "name": "stdout",
     "output_type": "stream",
     "text": [
      "{4}\n"
     ]
    }
   ],
   "source": [
    "roll_num.add(4)\n",
    "print(roll_num)"
   ]
  },
  {
   "cell_type": "code",
   "execution_count": 37,
   "id": "0063d773-afec-4249-8648-8c764180da82",
   "metadata": {},
   "outputs": [
    {
     "name": "stdout",
     "output_type": "stream",
     "text": [
      "{4, 6}\n"
     ]
    }
   ],
   "source": [
    "roll_num.add(6)\n",
    "print(roll_num)"
   ]
  },
  {
   "cell_type": "code",
   "execution_count": 38,
   "id": "c9ba69f2-6f9a-4ec4-8c3d-9516e81709ef",
   "metadata": {},
   "outputs": [
    {
     "name": "stdout",
     "output_type": "stream",
     "text": [
      "{4, 6}\n"
     ]
    }
   ],
   "source": [
    "roll_num.add(6)\n",
    "print(roll_num)"
   ]
  },
  {
   "cell_type": "code",
   "execution_count": 40,
   "id": "772b81ec-c486-4401-982e-e659e8989677",
   "metadata": {},
   "outputs": [
    {
     "name": "stdout",
     "output_type": "stream",
     "text": [
      "{1, 2, 3, 4, 5, 6, 7, 8}\n"
     ]
    }
   ],
   "source": [
    "num1 = [1,2,3,4,5,6,7,1,2,3,5,8]\n",
    "remove_dep = set(num1) #removes duplicates \n",
    "print(remove_dep)"
   ]
  },
  {
   "cell_type": "code",
   "execution_count": 41,
   "id": "43279608-127a-414f-8bd6-820f5ae68494",
   "metadata": {},
   "outputs": [
    {
     "name": "stdout",
     "output_type": "stream",
     "text": [
      "[1, 2, 3, 4, 5, 6, 7, 8]\n"
     ]
    }
   ],
   "source": [
    "num1 = [1,2,3,4,5,6,7,1,2,3,5,8]\n",
    "remove_dep = set(num1) #removes duplicates\n",
    "num1 = list(remove_dep)\n",
    "print(num1)"
   ]
  },
  {
   "cell_type": "code",
   "execution_count": null,
   "id": "b9bed6f3-6e57-4f93-b153-acafad92132b",
   "metadata": {},
   "outputs": [],
   "source": [
    "#dictionary a data structure. key and value pairs and curlly brackets\n"
   ]
  },
  {
   "cell_type": "code",
   "execution_count": 43,
   "id": "48cefc0c-8be9-492f-bcd6-e95fa43189fb",
   "metadata": {},
   "outputs": [
    {
     "name": "stdout",
     "output_type": "stream",
     "text": [
      "Hello\n"
     ]
    }
   ],
   "source": [
    "i=11\n",
    "j=8\n",
    "if (i>j):\n",
    "    print(\"Hello\")\n",
    "else:\n",
    "    print(\"not\")"
   ]
  },
  {
   "cell_type": "code",
   "execution_count": 44,
   "id": "21ae5bcb-48f0-4ea8-a7ba-fc702905f246",
   "metadata": {},
   "outputs": [
    {
     "name": "stdout",
     "output_type": "stream",
     "text": [
      "[0, 1, 2, 3, 4, 5, 6, 7, 8, 9]\n"
     ]
    }
   ],
   "source": [
    "print(list(range(10)))"
   ]
  },
  {
   "cell_type": "code",
   "execution_count": 45,
   "id": "f6cccce6-ae3c-4cc3-96b2-e524f6579d4f",
   "metadata": {},
   "outputs": [
    {
     "name": "stdin",
     "output_type": "stream",
     "text": [
      "enter a num 18\n"
     ]
    },
    {
     "name": "stdout",
     "output_type": "stream",
     "text": [
      "18\n"
     ]
    }
   ],
   "source": [
    "a=int(input(\"enter a num\"))\n",
    "print(a)"
   ]
  },
  {
   "cell_type": "code",
   "execution_count": 46,
   "id": "2260f8ca-6fcf-4f57-a5de-e237f4d6c943",
   "metadata": {},
   "outputs": [
    {
     "name": "stdin",
     "output_type": "stream",
     "text": [
      "enter a num 21\n"
     ]
    },
    {
     "name": "stdout",
     "output_type": "stream",
     "text": [
      "21\n"
     ]
    }
   ],
   "source": [
    "b=int(input(\"enter a num\"))\n",
    "print(b)"
   ]
  },
  {
   "cell_type": "code",
   "execution_count": 48,
   "id": "e526772b-95dd-44d8-af62-8a2910063b5f",
   "metadata": {},
   "outputs": [
    {
     "name": "stdout",
     "output_type": "stream",
     "text": [
      "time.struct_time(tm_year=2024, tm_mon=7, tm_mday=2, tm_hour=19, tm_min=46, tm_sec=47, tm_wday=1, tm_yday=184, tm_isdst=0)\n"
     ]
    }
   ],
   "source": [
    "#fstring and for else block #variables in curly {, brackets and everything b/w double quotes\n",
    "import time\n",
    "result = time.localtime()\n",
    "print(result)"
   ]
  },
  {
   "cell_type": "code",
   "execution_count": 52,
   "id": "9238f6e3-d3ee-4c92-8265-02dbd67c8904",
   "metadata": {},
   "outputs": [
    {
     "name": "stdout",
     "output_type": "stream",
     "text": [
      "Wke up buddy\n"
     ]
    }
   ],
   "source": [
    "while True:\n",
    "    result = time.localtime()\n",
    "    if result.tm_hour==19 and result.tm_min==51:\n",
    "        print(\"Wke up buddy\")\n",
    "        break\n",
    "    "
   ]
  },
  {
   "cell_type": "code",
   "execution_count": 53,
   "id": "bf840935-219a-495c-a568-1a323c353a8b",
   "metadata": {},
   "outputs": [
    {
     "name": "stdout",
     "output_type": "stream",
     "text": [
      "(0, 'Gaurav')\n",
      "(1, 'Suresh')\n",
      "(2, 'Gukesh')\n"
     ]
    }
   ],
   "source": [
    "#enumerate\n",
    "student = [\"Gaurav\",\"Suresh\",\"Gukesh\"]\n",
    "for i in enumerate(student):\n",
    "    print(i)"
   ]
  },
  {
   "cell_type": "code",
   "execution_count": 54,
   "id": "7302e86c-6a8c-4571-b75d-263315767f83",
   "metadata": {},
   "outputs": [
    {
     "name": "stdout",
     "output_type": "stream",
     "text": [
      "(1, 'Gaurav')\n",
      "(2, 'Suresh')\n",
      "(3, 'Gukesh')\n"
     ]
    }
   ],
   "source": [
    "\n",
    "for i in enumerate(student,1):\n",
    "    print(i)"
   ]
  },
  {
   "cell_type": "code",
   "execution_count": 55,
   "id": "fe505eb1-3e2f-48ca-ad9c-0baae55f5124",
   "metadata": {},
   "outputs": [
    {
     "name": "stdout",
     "output_type": "stream",
     "text": [
      "[('disha', 10), ('akash', 20), ('priya', 30), ('surya', 7)]\n"
     ]
    }
   ],
   "source": [
    "#zip method\n",
    "student_name = [\"disha\",\"akash\",\"priya\",\"surya\"]\n",
    "student_marks = [10,20,30,7]\n",
    "stud_details = list(zip(student_name,student_marks))\n",
    "print(stud_details)"
   ]
  },
  {
   "cell_type": "code",
   "execution_count": 56,
   "id": "8bc9088d-cc09-4f95-9c22-7eeae68ad66b",
   "metadata": {},
   "outputs": [
    {
     "name": "stdout",
     "output_type": "stream",
     "text": [
      "('disha', 'akash', 'priya', 'surya')\n",
      "(10, 20, 30, 7)\n"
     ]
    }
   ],
   "source": [
    "#unzip\n",
    "name,marks = list(zip(*stud_details))\n",
    "print(name)\n",
    "print(marks)"
   ]
  },
  {
   "cell_type": "code",
   "execution_count": 59,
   "id": "70426a8f-aabc-419b-a38a-40d62759671d",
   "metadata": {},
   "outputs": [
    {
     "name": "stdout",
     "output_type": "stream",
     "text": [
      "7\n",
      "8\n"
     ]
    }
   ],
   "source": [
    "#you can use zip and enumerate in one go\n",
    "#break and contine break is used to terminate the loop\n",
    "salary = [7,8,9,11,12]\n",
    "for val in salary:\n",
    "    if val==9:\n",
    "        break\n",
    "    print(val)"
   ]
  },
  {
   "cell_type": "code",
   "execution_count": 60,
   "id": "a9e7fbad-8f38-40a1-95f3-83b95c8e986d",
   "metadata": {},
   "outputs": [
    {
     "name": "stdout",
     "output_type": "stream",
     "text": [
      "7\n",
      "8\n",
      "11\n",
      "12\n"
     ]
    }
   ],
   "source": [
    "#continue is used to continue to the next instruction in the loop\n",
    "salary = [7,8,9,11,12]\n",
    "for val in salary:\n",
    "    if val==9:\n",
    "        continue\n",
    "    print(val)\n",
    "    "
   ]
  },
  {
   "cell_type": "code",
   "execution_count": 61,
   "id": "0b996403-0dac-465f-9dd1-092b5974d237",
   "metadata": {},
   "outputs": [
    {
     "name": "stdout",
     "output_type": "stream",
     "text": [
      "S\n",
      "t\n",
      "r\n",
      "n\n",
      "g\n",
      "e\n"
     ]
    }
   ],
   "source": [
    "for val in \"Stringexample\":\n",
    "    if val == \"i\":\n",
    "        continue\n",
    "    else:\n",
    "        if val == \"x\":\n",
    "            break\n",
    "        print(val)\n",
    "        "
   ]
  },
  {
   "cell_type": "code",
   "execution_count": 63,
   "id": "ec1b35dc-aebc-4909-bba6-cfaac6176417",
   "metadata": {},
   "outputs": [
    {
     "name": "stdout",
     "output_type": "stream",
     "text": [
      "Hello\n",
      "\t Dhuv\n"
     ]
    }
   ],
   "source": [
    "def say_hello(name):\n",
    "    print(\"Hello\\n\\t\",name)\n",
    "say_hello(\"Dhuv\")"
   ]
  },
  {
   "cell_type": "code",
   "execution_count": 64,
   "id": "8e999d32-31a9-4c54-960d-d8ed080ea6cf",
   "metadata": {},
   "outputs": [
    {
     "name": "stdout",
     "output_type": "stream",
     "text": [
      "7000\n"
     ]
    }
   ],
   "source": [
    "def inc_salary(salary):\n",
    "    if salary<=8000:\n",
    "        salary+=1000\n",
    "        return salary\n",
    "    else:\n",
    "        return salary\n",
    "a=inc_salary(6000)\n",
    "print(a)"
   ]
  },
  {
   "cell_type": "code",
   "execution_count": 65,
   "id": "06bc4386-3c64-45d2-86d7-53fd97d387fe",
   "metadata": {},
   "outputs": [
    {
     "name": "stdout",
     "output_type": "stream",
     "text": [
      "None\n"
     ]
    }
   ],
   "source": [
    "def inc_salary(salary):\n",
    "    if salary<=8000:\n",
    "        salary+=1000\n",
    "        \n",
    "    else:\n",
    "        salary\n",
    "a=inc_salary(6000)\n",
    "print(a)"
   ]
  },
  {
   "cell_type": "code",
   "execution_count": 66,
   "id": "cc7ebfc1-569f-4a77-878f-d60673536f6a",
   "metadata": {},
   "outputs": [
    {
     "name": "stdout",
     "output_type": "stream",
     "text": [
      "8\n"
     ]
    }
   ],
   "source": [
    "#lambda function\n",
    "multi_num = lambda x,y:x*y\n",
    "print(multi_num(4,2))"
   ]
  },
  {
   "cell_type": "code",
   "execution_count": 68,
   "id": "6ff3966d-1dcf-4709-bd82-3663deba6a67",
   "metadata": {},
   "outputs": [
    {
     "name": "stdout",
     "output_type": "stream",
     "text": [
      "my args dhruv\n",
      "my args 89\n",
      "None\n"
     ]
    }
   ],
   "source": [
    "# *args\n",
    "#we can take multiple arguements\n",
    "def funname(*args):\n",
    "    for i in args:\n",
    "        print(\"my args\",i)\n",
    "print(funname(\"dhruv\",89))"
   ]
  },
  {
   "cell_type": "code",
   "execution_count": 69,
   "id": "83747a14-56c1-44d0-9103-9ba00a973e0c",
   "metadata": {},
   "outputs": [
    {
     "name": "stdout",
     "output_type": "stream",
     "text": [
      "my args dhruv\n",
      "my args 79\n",
      "None\n"
     ]
    }
   ],
   "source": [
    "def funnyame(*args):\n",
    "    for i in args:\n",
    "        print(\"my args\",i)\n",
    "print(funnyame(\"dhruv\",79))"
   ]
  },
  {
   "cell_type": "code",
   "execution_count": 70,
   "id": "9e271626-5fa7-4c36-b921-57f8906dcdcc",
   "metadata": {},
   "outputs": [],
   "source": [
    "#kwargs: result in key,value format.givivng same as dictionary\n",
    "#def my_func(**kwargs):\n",
    "def fuinyame(*args):\n",
    "    for i in args:\n",
    "        print(\"my args\",i)    "
   ]
  },
  {
   "cell_type": "code",
   "execution_count": 71,
   "id": "622c4dc3-03a7-4d34-8d7b-b1ba8f331a75",
   "metadata": {},
   "outputs": [
    {
     "name": "stdout",
     "output_type": "stream",
     "text": [
      "my args dhruv\n",
      "my args 79\n"
     ]
    }
   ],
   "source": [
    "fuinyame(\"dhruv\",79)"
   ]
  },
  {
   "cell_type": "code",
   "execution_count": 72,
   "id": "6f1fa4ba-7b8d-4fcf-876e-f8fcaaef1652",
   "metadata": {},
   "outputs": [],
   "source": [
    "#kwargs: result in key,value format.givivng same as dictionary\n",
    "def my_func(**kwargs):\n",
    "    for key,value in kwargs.items():\n",
    "        print(key,value)\n"
   ]
  },
  {
   "cell_type": "code",
   "execution_count": 73,
   "id": "e0210d61-405d-4931-a8e8-240d364619c5",
   "metadata": {},
   "outputs": [
    {
     "name": "stdout",
     "output_type": "stream",
     "text": [
      "Student ['Ram', 'Shiv']\n",
      "marks [76, 99]\n"
     ]
    }
   ],
   "source": [
    "my_func(Student=[\"Ram\",\"Shiv\"],marks=[76,99])"
   ]
  },
  {
   "cell_type": "code",
   "execution_count": 74,
   "id": "6c62ff0e-3ee5-4bcb-aa30-c69aef49f65b",
   "metadata": {},
   "outputs": [],
   "source": [
    "#string indexing \n",
    "a = \"she is girl\"\n"
   ]
  },
  {
   "cell_type": "code",
   "execution_count": 75,
   "id": "3f539f36-4124-4662-9efc-5ebd829c708f",
   "metadata": {},
   "outputs": [
    {
     "data": {
      "text/plain": [
       "'s'"
      ]
     },
     "execution_count": 75,
     "metadata": {},
     "output_type": "execute_result"
    }
   ],
   "source": [
    "a[0]"
   ]
  },
  {
   "cell_type": "code",
   "execution_count": 76,
   "id": "aa397165-3fcb-440a-bdd0-4248a40034b0",
   "metadata": {},
   "outputs": [
    {
     "data": {
      "text/plain": [
       "'he is g'"
      ]
     },
     "execution_count": 76,
     "metadata": {},
     "output_type": "execute_result"
    }
   ],
   "source": [
    "a[1:8]"
   ]
  },
  {
   "cell_type": "code",
   "execution_count": 77,
   "id": "a71a082c-7c08-4fcd-9b44-43a925e89027",
   "metadata": {},
   "outputs": [
    {
     "data": {
      "text/plain": [
       "'s  r'"
      ]
     },
     "execution_count": 77,
     "metadata": {},
     "output_type": "execute_result"
    }
   ],
   "source": [
    "a[::3]"
   ]
  },
  {
   "cell_type": "code",
   "execution_count": 79,
   "id": "e30286a5-39ad-48ac-aa5f-6b19f73e7712",
   "metadata": {},
   "outputs": [],
   "source": [
    "#map function. it is a in built function it will iterate without loop\n",
    "def grace_marks(marks):\n",
    "    if marks==33:\n",
    "        return marks+2\n",
    "    elif marks==34:\n",
    "        return marks+1\n",
    "    else:\n",
    "        return marks"
   ]
  },
  {
   "cell_type": "code",
   "execution_count": 80,
   "id": "99f08147-419e-43c4-8915-37a560b9d3ae",
   "metadata": {},
   "outputs": [],
   "source": [
    "score = [32,33,43,33,32,55,66,12]\n"
   ]
  },
  {
   "cell_type": "code",
   "execution_count": 81,
   "id": "14df9547-9046-4dcb-928e-3232b34a8ed2",
   "metadata": {},
   "outputs": [],
   "source": [
    "total = list(map(grace_marks,score))"
   ]
  },
  {
   "cell_type": "code",
   "execution_count": 82,
   "id": "0f7054ed-abe9-41b5-a8a7-41d3b5c61728",
   "metadata": {},
   "outputs": [
    {
     "data": {
      "text/plain": [
       "[32, 35, 43, 35, 32, 55, 66, 12]"
      ]
     },
     "execution_count": 82,
     "metadata": {},
     "output_type": "execute_result"
    }
   ],
   "source": [
    "total"
   ]
  },
  {
   "cell_type": "code",
   "execution_count": 83,
   "id": "9e9fa5d2-859a-45f5-a87b-e51f24f6246a",
   "metadata": {},
   "outputs": [],
   "source": [
    "#filter funcn. we will filter\n",
    "def filter_fun(marks):\n",
    "    if marks<35:\n",
    "        return marks\n",
    "        "
   ]
  },
  {
   "cell_type": "code",
   "execution_count": 84,
   "id": "3854d79f-3d9e-46e7-95bb-d52ef309954c",
   "metadata": {},
   "outputs": [],
   "source": [
    "score = [23,33,45,6,12,18,99,65]"
   ]
  },
  {
   "cell_type": "code",
   "execution_count": 85,
   "id": "fe7a0916-1066-4627-9e20-009064dd04f4",
   "metadata": {},
   "outputs": [],
   "source": [
    "fail = list(filter(filter_fun,score))"
   ]
  },
  {
   "cell_type": "code",
   "execution_count": 86,
   "id": "5739a0f6-8725-4fe9-b776-362cd448a400",
   "metadata": {},
   "outputs": [
    {
     "data": {
      "text/plain": [
       "[23, 33, 6, 12, 18]"
      ]
     },
     "execution_count": 86,
     "metadata": {},
     "output_type": "execute_result"
    }
   ],
   "source": [
    "fail"
   ]
  },
  {
   "cell_type": "code",
   "execution_count": null,
   "id": "3f679b09-a0a6-48b4-83e8-0207932e53dc",
   "metadata": {},
   "outputs": [],
   "source": [
    "#difference between filter and map\n",
    "#map accepts all eleme=ents in a list and given funcn applied to it'\n",
    "#filter: it accepts the data in the list and returns a new list whose elements will be those which return true for the given functio"
   ]
  },
  {
   "cell_type": "code",
   "execution_count": 90,
   "id": "658a71fc-8c10-42a9-ba3d-00c1366b04ae",
   "metadata": {},
   "outputs": [],
   "source": [
    "#global and local variable\n",
    "#local variable: it can be used only inside the function\n",
    "def local_global():\n",
    "    global var12 #converting local to global\n",
    "    var12 = \"this is\"\n",
    "    print(var12)"
   ]
  },
  {
   "cell_type": "code",
   "execution_count": 89,
   "id": "9b3613d4-aa49-47d6-aed2-2c75d3bb75a9",
   "metadata": {},
   "outputs": [
    {
     "name": "stdout",
     "output_type": "stream",
     "text": [
      "this is\n"
     ]
    }
   ],
   "source": [
    "local_global()"
   ]
  },
  {
   "cell_type": "code",
   "execution_count": 92,
   "id": "9678d3b9-b23e-4073-b2d7-8420945b7e31",
   "metadata": {},
   "outputs": [
    {
     "name": "stdin",
     "output_type": "stream",
     "text": [
      "enter yur name : hill\n"
     ]
    },
    {
     "name": "stdout",
     "output_type": "stream",
     "text": [
      "hello\n"
     ]
    }
   ],
   "source": [
    "name  = input(\"enter yur name :\")\n",
    "if name.isalpha():\n",
    "    print(\"hello\")\n",
    "else:\n",
    "    print(\"sorrry\")\n",
    "    \n"
   ]
  },
  {
   "cell_type": "code",
   "execution_count": 93,
   "id": "39a29262-5319-4eb8-9f22-ca5b9f9185e4",
   "metadata": {},
   "outputs": [],
   "source": [
    "mark = 88\n",
    "subject = \"maths\"\n",
    "mark2 = 33\n"
   ]
  },
  {
   "cell_type": "code",
   "execution_count": 94,
   "id": "10f9ac18-8e7a-44db-b835-83cbe32ae030",
   "metadata": {},
   "outputs": [
    {
     "name": "stdout",
     "output_type": "stream",
     "text": [
      "sorry error\n"
     ]
    }
   ],
   "source": [
    "#try and except. code inside try gets run if there is no error. if error, then except block is run\n",
    "try:\n",
    "    total = mark+subject\n",
    "except:\n",
    "    print(\"sorry error\")\n",
    "else:\n",
    "    print(total)"
   ]
  },
  {
   "cell_type": "code",
   "execution_count": 95,
   "id": "b3563e69-3ee9-460d-8ec9-bcc42816c8c9",
   "metadata": {},
   "outputs": [
    {
     "name": "stdout",
     "output_type": "stream",
     "text": [
      "121\n"
     ]
    }
   ],
   "source": [
    "try:\n",
    "    total = mark+mark2\n",
    "except:\n",
    "    print(\"sorry error\")\n",
    "else:\n",
    "    print(total)"
   ]
  },
  {
   "cell_type": "code",
   "execution_count": 96,
   "id": "a3e413b8-668e-400b-8683-df3e029d021b",
   "metadata": {},
   "outputs": [
    {
     "name": "stdin",
     "output_type": "stream",
     "text": [
      "enter yur car: hundai\n",
      "enter name \n",
      "enter yur number : kill\n"
     ]
    },
    {
     "ename": "NameError",
     "evalue": "name 'mobile' is not defined",
     "output_type": "error",
     "traceback": [
      "\u001b[1;31m---------------------------------------------------------------------------\u001b[0m",
      "\u001b[1;31mValueError\u001b[0m                                Traceback (most recent call last)",
      "Cell \u001b[1;32mIn[96], line 4\u001b[0m\n\u001b[0;32m      3\u001b[0m name \u001b[38;5;241m=\u001b[39m \u001b[38;5;28minput\u001b[39m(\u001b[38;5;124m\"\u001b[39m\u001b[38;5;124menter name\u001b[39m\u001b[38;5;124m\"\u001b[39m)\n\u001b[1;32m----> 4\u001b[0m mobile \u001b[38;5;241m=\u001b[39m \u001b[38;5;28mint\u001b[39m(\u001b[38;5;28minput\u001b[39m(\u001b[38;5;124m\"\u001b[39m\u001b[38;5;124menter yur number :\u001b[39m\u001b[38;5;124m\"\u001b[39m))\n\u001b[0;32m      5\u001b[0m \u001b[38;5;28;01mif\u001b[39;00m car \u001b[38;5;241m==\u001b[39m \u001b[38;5;124m\"\u001b[39m\u001b[38;5;124m \u001b[39m\u001b[38;5;124m\"\u001b[39m:\n",
      "\u001b[1;31mValueError\u001b[0m: invalid literal for int() with base 10: 'kill'",
      "\nDuring handling of the above exception, another exception occurred:\n",
      "\u001b[1;31mNameError\u001b[0m                                 Traceback (most recent call last)",
      "Cell \u001b[1;32mIn[96], line 18\u001b[0m\n\u001b[0;32m     16\u001b[0m     \u001b[38;5;28;01mif\u001b[39;00m name \u001b[38;5;241m==\u001b[39m \u001b[38;5;124m\"\u001b[39m\u001b[38;5;124m \u001b[39m\u001b[38;5;124m\"\u001b[39m:\n\u001b[0;32m     17\u001b[0m         \u001b[38;5;28mprint\u001b[39m(\u001b[38;5;124m\"\u001b[39m\u001b[38;5;130;01m\\n\u001b[39;00m\u001b[38;5;124mplease enter name proper\u001b[39m\u001b[38;5;130;01m\\n\u001b[39;00m\u001b[38;5;124m\"\u001b[39m)\n\u001b[1;32m---> 18\u001b[0m     \u001b[38;5;28;01mif\u001b[39;00m mobile \u001b[38;5;241m==\u001b[39m \u001b[38;5;124m\"\u001b[39m\u001b[38;5;124m \u001b[39m\u001b[38;5;124m\"\u001b[39m:\n\u001b[0;32m     19\u001b[0m         \u001b[38;5;28mprint\u001b[39m(\u001b[38;5;124m\"\u001b[39m\u001b[38;5;130;01m\\n\u001b[39;00m\u001b[38;5;124mplease enter number proper\u001b[39m\u001b[38;5;130;01m\\n\u001b[39;00m\u001b[38;5;124m\"\u001b[39m)\n\u001b[0;32m     20\u001b[0m \u001b[38;5;28;01melse\u001b[39;00m:\n",
      "\u001b[1;31mNameError\u001b[0m: name 'mobile' is not defined"
     ]
    }
   ],
   "source": [
    "try:\n",
    "    car = input(\"enter yur car:\")\n",
    "    name = input(\"enter name\")\n",
    "    mobile = int(input(\"enter yur number :\"))\n",
    "    if car == \" \":\n",
    "        raise Exception()\n",
    "    elif name == \" \":\n",
    "        raise Exception()\n",
    "    elif mobile == \"\":\n",
    "        raise Exception()\n",
    "    else:\n",
    "        pass\n",
    "except:\n",
    "    if car == \" \":\n",
    "        print(\"\\nplease enter proper\\n\")\n",
    "    if name == \" \":\n",
    "        print(\"\\nplease enter name proper\\n\")\n",
    "    if mobile == \" \":\n",
    "        print(\"\\nplease enter number proper\\n\")\n",
    "else:\n",
    "    print(\"thanks\")\n",
    "    "
   ]
  },
  {
   "cell_type": "code",
   "execution_count": null,
   "id": "d9d826e3-9135-4e38-927b-d0f66fc0d62d",
   "metadata": {},
   "outputs": [],
   "source": [
    "#try, except and else. try,except,finally: finally is executed even if try and except are not fully executed. else is \n",
    "#only executed if all statements in try block are executed and it is true\n"
   ]
  }
 ],
 "metadata": {
  "kernelspec": {
   "display_name": "Python 3 (ipykernel)",
   "language": "python",
   "name": "python3"
  },
  "language_info": {
   "codemirror_mode": {
    "name": "ipython",
    "version": 3
   },
   "file_extension": ".py",
   "mimetype": "text/x-python",
   "name": "python",
   "nbconvert_exporter": "python",
   "pygments_lexer": "ipython3",
   "version": "3.11.7"
  }
 },
 "nbformat": 4,
 "nbformat_minor": 5
}
